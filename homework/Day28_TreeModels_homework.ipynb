{
 "cells": [
  {
   "cell_type": "markdown",
   "metadata": {},
   "source": [
    "### 作業目的: 使用樹型模型進行文章分類\n",
    "\n",
    "本次作業主利用[Amazon Review data中的All Beauty](https://nijianmo.github.io/amazon/index.html)來進行review評價分類(文章分類)\n",
    "\n",
    "資料中將review分為1,2,3,4,5分，而在這份作業，我們將評論改分為差評價、普通評價、優良評價(1,2-->1差評、3-->2普通評價、4,5-->3優良評價)"
   ]
  },
  {
   "cell_type": "markdown",
   "metadata": {},
   "source": [
    "### 載入套件"
   ]
  },
  {
   "cell_type": "code",
   "execution_count": 1,
   "metadata": {},
   "outputs": [],
   "source": [
    "import pandas as pd\n",
    "import re\n",
    "from sklearn.model_selection import train_test_split\n",
    "from sklearn.feature_extraction.text import TfidfVectorizer, TfidfTransformer\n",
    "from sklearn.tree import DecisionTreeClassifier\n",
    "from sklearn.ensemble import AdaBoostClassifier, RandomForestClassifier\n",
    "from sklearn.metrics import classification_report, confusion_matrix"
   ]
  },
  {
   "cell_type": "markdown",
   "metadata": {},
   "source": [
    "### 資料前處理\n",
    "文本資料較為龐大，這裡我們取前10000筆資料來進行作業練習"
   ]
  },
  {
   "cell_type": "code",
   "execution_count": 2,
   "metadata": {},
   "outputs": [
    {
     "data": {
      "text/plain": [
       "(10000, 12)"
      ]
     },
     "execution_count": 2,
     "metadata": {},
     "output_type": "execute_result"
    }
   ],
   "source": [
    "#load json data\n",
    "all_reviews = pd.read_json('All_Beauty.json', lines=True, nrows=10000)\n",
    "all_reviews.shape"
   ]
  },
  {
   "cell_type": "code",
   "execution_count": 3,
   "metadata": {},
   "outputs": [
    {
     "data": {
      "text/html": [
       "<div>\n",
       "<style scoped>\n",
       "    .dataframe tbody tr th:only-of-type {\n",
       "        vertical-align: middle;\n",
       "    }\n",
       "\n",
       "    .dataframe tbody tr th {\n",
       "        vertical-align: top;\n",
       "    }\n",
       "\n",
       "    .dataframe thead th {\n",
       "        text-align: right;\n",
       "    }\n",
       "</style>\n",
       "<table border=\"1\" class=\"dataframe\">\n",
       "  <thead>\n",
       "    <tr style=\"text-align: right;\">\n",
       "      <th></th>\n",
       "      <th>overall</th>\n",
       "      <th>verified</th>\n",
       "      <th>reviewTime</th>\n",
       "      <th>reviewerID</th>\n",
       "      <th>asin</th>\n",
       "      <th>reviewerName</th>\n",
       "      <th>reviewText</th>\n",
       "      <th>summary</th>\n",
       "      <th>unixReviewTime</th>\n",
       "      <th>vote</th>\n",
       "      <th>style</th>\n",
       "      <th>image</th>\n",
       "    </tr>\n",
       "  </thead>\n",
       "  <tbody>\n",
       "    <tr>\n",
       "      <th>0</th>\n",
       "      <td>1</td>\n",
       "      <td>True</td>\n",
       "      <td>02 19, 2015</td>\n",
       "      <td>A1V6B6TNIC10QE</td>\n",
       "      <td>0143026860</td>\n",
       "      <td>theodore j bigham</td>\n",
       "      <td>great</td>\n",
       "      <td>One Star</td>\n",
       "      <td>1424304000</td>\n",
       "      <td>NaN</td>\n",
       "      <td>NaN</td>\n",
       "      <td>NaN</td>\n",
       "    </tr>\n",
       "    <tr>\n",
       "      <th>1</th>\n",
       "      <td>4</td>\n",
       "      <td>True</td>\n",
       "      <td>12 18, 2014</td>\n",
       "      <td>A2F5GHSXFQ0W6J</td>\n",
       "      <td>0143026860</td>\n",
       "      <td>Mary K. Byke</td>\n",
       "      <td>My  husband wanted to reading about the Negro ...</td>\n",
       "      <td>... to reading about the Negro Baseball and th...</td>\n",
       "      <td>1418860800</td>\n",
       "      <td>NaN</td>\n",
       "      <td>NaN</td>\n",
       "      <td>NaN</td>\n",
       "    </tr>\n",
       "    <tr>\n",
       "      <th>2</th>\n",
       "      <td>4</td>\n",
       "      <td>True</td>\n",
       "      <td>08 10, 2014</td>\n",
       "      <td>A1572GUYS7DGSR</td>\n",
       "      <td>0143026860</td>\n",
       "      <td>David G</td>\n",
       "      <td>This book was very informative, covering all a...</td>\n",
       "      <td>Worth the Read</td>\n",
       "      <td>1407628800</td>\n",
       "      <td>NaN</td>\n",
       "      <td>NaN</td>\n",
       "      <td>NaN</td>\n",
       "    </tr>\n",
       "    <tr>\n",
       "      <th>3</th>\n",
       "      <td>5</td>\n",
       "      <td>True</td>\n",
       "      <td>03 11, 2013</td>\n",
       "      <td>A1PSGLFK1NSVO</td>\n",
       "      <td>0143026860</td>\n",
       "      <td>TamB</td>\n",
       "      <td>I am already a baseball fan and knew a bit abo...</td>\n",
       "      <td>Good Read</td>\n",
       "      <td>1362960000</td>\n",
       "      <td>NaN</td>\n",
       "      <td>NaN</td>\n",
       "      <td>NaN</td>\n",
       "    </tr>\n",
       "    <tr>\n",
       "      <th>4</th>\n",
       "      <td>5</td>\n",
       "      <td>True</td>\n",
       "      <td>12 25, 2011</td>\n",
       "      <td>A6IKXKZMTKGSC</td>\n",
       "      <td>0143026860</td>\n",
       "      <td>shoecanary</td>\n",
       "      <td>This was a good story of the Black leagues. I ...</td>\n",
       "      <td>More than facts, a good story read!</td>\n",
       "      <td>1324771200</td>\n",
       "      <td>5</td>\n",
       "      <td>NaN</td>\n",
       "      <td>NaN</td>\n",
       "    </tr>\n",
       "  </tbody>\n",
       "</table>\n",
       "</div>"
      ],
      "text/plain": [
       "   overall  verified   reviewTime      reviewerID        asin  \\\n",
       "0        1      True  02 19, 2015  A1V6B6TNIC10QE  0143026860   \n",
       "1        4      True  12 18, 2014  A2F5GHSXFQ0W6J  0143026860   \n",
       "2        4      True  08 10, 2014  A1572GUYS7DGSR  0143026860   \n",
       "3        5      True  03 11, 2013   A1PSGLFK1NSVO  0143026860   \n",
       "4        5      True  12 25, 2011   A6IKXKZMTKGSC  0143026860   \n",
       "\n",
       "        reviewerName                                         reviewText  \\\n",
       "0  theodore j bigham                                              great   \n",
       "1       Mary K. Byke  My  husband wanted to reading about the Negro ...   \n",
       "2            David G  This book was very informative, covering all a...   \n",
       "3               TamB  I am already a baseball fan and knew a bit abo...   \n",
       "4         shoecanary  This was a good story of the Black leagues. I ...   \n",
       "\n",
       "                                             summary  unixReviewTime vote  \\\n",
       "0                                           One Star      1424304000  NaN   \n",
       "1  ... to reading about the Negro Baseball and th...      1418860800  NaN   \n",
       "2                                     Worth the Read      1407628800  NaN   \n",
       "3                                          Good Read      1362960000  NaN   \n",
       "4                More than facts, a good story read!      1324771200    5   \n",
       "\n",
       "  style image  \n",
       "0   NaN   NaN  \n",
       "1   NaN   NaN  \n",
       "2   NaN   NaN  \n",
       "3   NaN   NaN  \n",
       "4   NaN   NaN  "
      ]
     },
     "execution_count": 3,
     "metadata": {},
     "output_type": "execute_result"
    }
   ],
   "source": [
    "all_reviews.head()"
   ]
  },
  {
   "cell_type": "code",
   "execution_count": 4,
   "metadata": {},
   "outputs": [
    {
     "data": {
      "text/plain": [
       "array([1, 4, 5, 2, 3], dtype=int64)"
      ]
     },
     "execution_count": 4,
     "metadata": {},
     "output_type": "execute_result"
    }
   ],
   "source": [
    "all_reviews['overall'].unique()"
   ]
  },
  {
   "cell_type": "code",
   "execution_count": 5,
   "metadata": {},
   "outputs": [
    {
     "data": {
      "text/html": [
       "<div>\n",
       "<style scoped>\n",
       "    .dataframe tbody tr th:only-of-type {\n",
       "        vertical-align: middle;\n",
       "    }\n",
       "\n",
       "    .dataframe tbody tr th {\n",
       "        vertical-align: top;\n",
       "    }\n",
       "\n",
       "    .dataframe thead th {\n",
       "        text-align: right;\n",
       "    }\n",
       "</style>\n",
       "<table border=\"1\" class=\"dataframe\">\n",
       "  <thead>\n",
       "    <tr style=\"text-align: right;\">\n",
       "      <th></th>\n",
       "      <th>overall</th>\n",
       "      <th>verified</th>\n",
       "      <th>reviewTime</th>\n",
       "      <th>reviewerID</th>\n",
       "      <th>asin</th>\n",
       "      <th>reviewerName</th>\n",
       "      <th>reviewText</th>\n",
       "      <th>summary</th>\n",
       "      <th>unixReviewTime</th>\n",
       "      <th>vote</th>\n",
       "      <th>style</th>\n",
       "      <th>image</th>\n",
       "    </tr>\n",
       "  </thead>\n",
       "  <tbody>\n",
       "    <tr>\n",
       "      <th>547</th>\n",
       "      <td>5</td>\n",
       "      <td>True</td>\n",
       "      <td>03 4, 2017</td>\n",
       "      <td>A3TQJ5AQXW6CZH</td>\n",
       "      <td>1620213982</td>\n",
       "      <td>mona</td>\n",
       "      <td>NaN</td>\n",
       "      <td>Five Stars</td>\n",
       "      <td>1488585600</td>\n",
       "      <td>NaN</td>\n",
       "      <td>{'Size:': ' Color42'}</td>\n",
       "      <td>NaN</td>\n",
       "    </tr>\n",
       "    <tr>\n",
       "      <th>3594</th>\n",
       "      <td>5</td>\n",
       "      <td>True</td>\n",
       "      <td>05 21, 2015</td>\n",
       "      <td>A2CMCSBNYJETQY</td>\n",
       "      <td>1620213982</td>\n",
       "      <td>Bobby Hamrick</td>\n",
       "      <td>NaN</td>\n",
       "      <td>Part of a great combo</td>\n",
       "      <td>1432166400</td>\n",
       "      <td>NaN</td>\n",
       "      <td>{'Size:': ' 6.25 Inches'}</td>\n",
       "      <td>[https://images-na.ssl-images-amazon.com/image...</td>\n",
       "    </tr>\n",
       "    <tr>\n",
       "      <th>4105</th>\n",
       "      <td>5</td>\n",
       "      <td>True</td>\n",
       "      <td>01 7, 2015</td>\n",
       "      <td>A2W5DS4107108S</td>\n",
       "      <td>1620213982</td>\n",
       "      <td>Dimitry</td>\n",
       "      <td>NaN</td>\n",
       "      <td>Just a good idea!</td>\n",
       "      <td>1420588800</td>\n",
       "      <td>3</td>\n",
       "      <td>{'Size:': ' 6.25 Inches'}</td>\n",
       "      <td>[https://images-na.ssl-images-amazon.com/image...</td>\n",
       "    </tr>\n",
       "    <tr>\n",
       "      <th>6361</th>\n",
       "      <td>5</td>\n",
       "      <td>True</td>\n",
       "      <td>11 19, 2016</td>\n",
       "      <td>A2MZYX8PMNV32V</td>\n",
       "      <td>B000050FDY</td>\n",
       "      <td>Amani albadawi</td>\n",
       "      <td>NaN</td>\n",
       "      <td>Five Stars</td>\n",
       "      <td>1479513600</td>\n",
       "      <td>NaN</td>\n",
       "      <td>{'Size:': ' 2 Count'}</td>\n",
       "      <td>NaN</td>\n",
       "    </tr>\n",
       "    <tr>\n",
       "      <th>6437</th>\n",
       "      <td>5</td>\n",
       "      <td>True</td>\n",
       "      <td>03 20, 2016</td>\n",
       "      <td>ACEV4EGUYH56O</td>\n",
       "      <td>B000050FDY</td>\n",
       "      <td>Amazon Customer</td>\n",
       "      <td>NaN</td>\n",
       "      <td>Five Stars</td>\n",
       "      <td>1458432000</td>\n",
       "      <td>NaN</td>\n",
       "      <td>{'Size:': ' 2 Count'}</td>\n",
       "      <td>NaN</td>\n",
       "    </tr>\n",
       "  </tbody>\n",
       "</table>\n",
       "</div>"
      ],
      "text/plain": [
       "      overall  verified   reviewTime      reviewerID        asin  \\\n",
       "547         5      True   03 4, 2017  A3TQJ5AQXW6CZH  1620213982   \n",
       "3594        5      True  05 21, 2015  A2CMCSBNYJETQY  1620213982   \n",
       "4105        5      True   01 7, 2015  A2W5DS4107108S  1620213982   \n",
       "6361        5      True  11 19, 2016  A2MZYX8PMNV32V  B000050FDY   \n",
       "6437        5      True  03 20, 2016   ACEV4EGUYH56O  B000050FDY   \n",
       "\n",
       "         reviewerName reviewText                summary  unixReviewTime vote  \\\n",
       "547              mona        NaN             Five Stars      1488585600  NaN   \n",
       "3594    Bobby Hamrick        NaN  Part of a great combo      1432166400  NaN   \n",
       "4105          Dimitry        NaN      Just a good idea!      1420588800    3   \n",
       "6361   Amani albadawi        NaN             Five Stars      1479513600  NaN   \n",
       "6437  Amazon Customer        NaN             Five Stars      1458432000  NaN   \n",
       "\n",
       "                          style  \\\n",
       "547       {'Size:': ' Color42'}   \n",
       "3594  {'Size:': ' 6.25 Inches'}   \n",
       "4105  {'Size:': ' 6.25 Inches'}   \n",
       "6361      {'Size:': ' 2 Count'}   \n",
       "6437      {'Size:': ' 2 Count'}   \n",
       "\n",
       "                                                  image  \n",
       "547                                                 NaN  \n",
       "3594  [https://images-na.ssl-images-amazon.com/image...  \n",
       "4105  [https://images-na.ssl-images-amazon.com/image...  \n",
       "6361                                                NaN  \n",
       "6437                                                NaN  "
      ]
     },
     "execution_count": 5,
     "metadata": {},
     "output_type": "execute_result"
    }
   ],
   "source": [
    "all_reviews[all_reviews['reviewText'].isnull()]"
   ]
  },
  {
   "cell_type": "code",
   "execution_count": 6,
   "metadata": {},
   "outputs": [
    {
     "data": {
      "text/html": [
       "<div>\n",
       "<style scoped>\n",
       "    .dataframe tbody tr th:only-of-type {\n",
       "        vertical-align: middle;\n",
       "    }\n",
       "\n",
       "    .dataframe tbody tr th {\n",
       "        vertical-align: top;\n",
       "    }\n",
       "\n",
       "    .dataframe thead th {\n",
       "        text-align: right;\n",
       "    }\n",
       "</style>\n",
       "<table border=\"1\" class=\"dataframe\">\n",
       "  <thead>\n",
       "    <tr style=\"text-align: right;\">\n",
       "      <th></th>\n",
       "      <th>overall</th>\n",
       "      <th>verified</th>\n",
       "      <th>reviewTime</th>\n",
       "      <th>reviewerID</th>\n",
       "      <th>asin</th>\n",
       "      <th>reviewerName</th>\n",
       "      <th>reviewText</th>\n",
       "      <th>summary</th>\n",
       "      <th>unixReviewTime</th>\n",
       "      <th>vote</th>\n",
       "      <th>style</th>\n",
       "      <th>image</th>\n",
       "    </tr>\n",
       "  </thead>\n",
       "  <tbody>\n",
       "  </tbody>\n",
       "</table>\n",
       "</div>"
      ],
      "text/plain": [
       "Empty DataFrame\n",
       "Columns: [overall, verified, reviewTime, reviewerID, asin, reviewerName, reviewText, summary, unixReviewTime, vote, style, image]\n",
       "Index: []"
      ]
     },
     "execution_count": 6,
     "metadata": {},
     "output_type": "execute_result"
    }
   ],
   "source": [
    "#發現reviewText有5筆有NaN，先去除\n",
    "all_reviews = all_reviews[all_reviews['reviewText'].notnull()]\n",
    "all_reviews[all_reviews['reviewText'].isnull()]"
   ]
  },
  {
   "cell_type": "code",
   "execution_count": 7,
   "metadata": {},
   "outputs": [
    {
     "data": {
      "text/plain": [
       "(9995, 9995)"
      ]
     },
     "execution_count": 7,
     "metadata": {},
     "output_type": "execute_result"
    }
   ],
   "source": [
    "#parse label(overall) and corpus(reviewText)\n",
    "corpus = all_reviews['reviewText'].tolist()\n",
    "       \n",
    "#transform labels: 1,2 --> 1 and 3 --> 2 and 4,5 --> 3\n",
    "def transform_labels(x):\n",
    "    if x == 3:\n",
    "        x = 2\n",
    "    elif (x == 1) or (x == 2):\n",
    "        x = 1\n",
    "    elif (x == 4) or (x == 5):\n",
    "        x =3\n",
    "    else:\n",
    "        x\n",
    "    return x\n",
    "\n",
    "labels = all_reviews['overall'].apply(transform_labels).tolist()\n",
    "\n",
    "len(corpus), len(labels)"
   ]
  },
  {
   "cell_type": "code",
   "execution_count": 8,
   "metadata": {},
   "outputs": [
    {
     "data": {
      "text/plain": [
       "['great',\n",
       " \"My  husband wanted to reading about the Negro Baseball and this a great addition to his library\\n Our library doesn't haveinformation so this book is his start. Tthank you\",\n",
       " 'This book was very informative, covering all aspects of game.',\n",
       " 'I am already a baseball fan and knew a bit about the Negro leagues, but I learned a lot more reading this book.',\n",
       " \"This was a good story of the Black leagues. I bought the book to teach in my high school reading class. I found it very informative and exciting. I would recommend to anyone interested in the history of the black leagues. It is well written, unlike a book of facts. The McKissack's continue to write good books for young audiences that can also be enjoyed by adults!\"]"
      ]
     },
     "execution_count": 8,
     "metadata": {},
     "output_type": "execute_result"
    }
   ],
   "source": [
    "corpus[0:5]"
   ]
  },
  {
   "cell_type": "code",
   "execution_count": 9,
   "metadata": {},
   "outputs": [
    {
     "data": {
      "text/plain": [
       "[1, 3, 3, 3, 3]"
      ]
     },
     "execution_count": 9,
     "metadata": {},
     "output_type": "execute_result"
    }
   ],
   "source": [
    "labels[0:5]"
   ]
  },
  {
   "cell_type": "code",
   "execution_count": 10,
   "metadata": {},
   "outputs": [
    {
     "data": {
      "text/plain": [
       "[(2726, ['@ ']),\n",
       " (4961, ['@ ']),\n",
       " (4972, ['ROBERTY....aaroberty@comcast.net.']),\n",
       " (6653, ['Youngbern@aol.com']),\n",
       " (6698, ['@ ']),\n",
       " (7963, ['leaned@Panasonic']),\n",
       " (9727, ['@ '])]"
      ]
     },
     "execution_count": 10,
     "metadata": {},
     "output_type": "execute_result"
    }
   ],
   "source": [
    "#preprocessing data\n",
    "#remove email address, punctuations, and change line symbol(\\n)\n",
    "\n",
    "#確認一下有哪些有email address\n",
    "pattern = r\"\\S*@\\S*\\s?\"\n",
    "matches = []\n",
    "for i,text in enumerate(corpus):\n",
    "    match = re.findall(pattern, text)\n",
    "    if len(match) != 0:\n",
    "        matches.append((i, match))\n",
    "matches"
   ]
  },
  {
   "cell_type": "code",
   "execution_count": 11,
   "metadata": {},
   "outputs": [
    {
     "data": {
      "text/plain": [
       "'Dead on arrival - tried to use this product but did not work - tried new batteries to no avail...past return date...sad, sad, sad...have several other Panasonic personal grooming shavers which prompted me to purchase this...lesson leaned@Panasonic'"
      ]
     },
     "execution_count": 11,
     "metadata": {},
     "output_type": "execute_result"
    }
   ],
   "source": [
    "corpus[7963]"
   ]
  },
  {
   "cell_type": "code",
   "execution_count": 12,
   "metadata": {},
   "outputs": [
    {
     "data": {
      "text/plain": [
       "'dead on arrival tried to use this product but did not work tried new batteries to no avail past return date sad sad sad have several other panasonic personal grooming shavers which prompted me to purchase this lesson'"
      ]
     },
     "execution_count": 12,
     "metadata": {},
     "output_type": "execute_result"
    }
   ],
   "source": [
    "pattern = r\"\\S*@\\S*\\s?|\\n|\\W\"\n",
    "' '.join(w for w in re.sub(pattern, ' ', corpus[7963]).lower().split())"
   ]
  },
  {
   "cell_type": "code",
   "execution_count": 13,
   "metadata": {},
   "outputs": [
    {
     "data": {
      "text/plain": [
       "'dead on arrival tried to use this product but did not work tried new batteries to no avail past return date sad sad sad have several other panasonic personal grooming shavers which prompted me to purchase this lesson'"
      ]
     },
     "execution_count": 13,
     "metadata": {},
     "output_type": "execute_result"
    }
   ],
   "source": [
    "#remove email address, punctuations, and change line symbol(\\n), lower all case\n",
    "pattern = r\"\\S*@\\S*\\s?|\\n|\\W\"\n",
    "preprocess_text = lambda x: ' '.join(w for w in re.sub(pattern, ' ', x).lower().split())\n",
    "corpus = [preprocess_text(text) for text in corpus]\n",
    "corpus[7963]"
   ]
  },
  {
   "cell_type": "code",
   "execution_count": 14,
   "metadata": {},
   "outputs": [
    {
     "data": {
      "text/plain": [
       "['great',\n",
       " 'my husband wanted to reading about the negro baseball and this a great addition to his library our library doesn t haveinformation so this book is his start tthank you',\n",
       " 'this book was very informative covering all aspects of game',\n",
       " 'i am already a baseball fan and knew a bit about the negro leagues but i learned a lot more reading this book',\n",
       " 'this was a good story of the black leagues i bought the book to teach in my high school reading class i found it very informative and exciting i would recommend to anyone interested in the history of the black leagues it is well written unlike a book of facts the mckissack s continue to write good books for young audiences that can also be enjoyed by adults']"
      ]
     },
     "execution_count": 14,
     "metadata": {},
     "output_type": "execute_result"
    }
   ],
   "source": [
    "corpus[:5]"
   ]
  },
  {
   "cell_type": "code",
   "execution_count": 15,
   "metadata": {},
   "outputs": [
    {
     "data": {
      "text/plain": [
       "(7996, 1999, 7996, 1999)"
      ]
     },
     "execution_count": 15,
     "metadata": {},
     "output_type": "execute_result"
    }
   ],
   "source": [
    "#split corpus and label into train and test\n",
    "x_train, x_test, y_train, y_test = train_test_split(corpus, labels, test_size=0.2, random_state=0)\n",
    "len(x_train), len(x_test), len(y_train), len(y_test)"
   ]
  },
  {
   "cell_type": "code",
   "execution_count": 16,
   "metadata": {},
   "outputs": [
    {
     "data": {
      "text/plain": [
       "['great deal good price nice strong material i would buy many more if i needed to very fast delivery i just installed it and am hoping it last if it breaks or does not work i will update review',\n",
       " 'got the 4 pack box for my husband and it is very good value cheaper than anywhere else that i ve seen so far',\n",
       " 'great product and fast shipping',\n",
       " 'quality finish heavy and long enough for a merkur 23c',\n",
       " 'great product well made and stable provides my brush a great place to dry properly stylish appearance as well']"
      ]
     },
     "execution_count": 16,
     "metadata": {},
     "output_type": "execute_result"
    }
   ],
   "source": [
    "x_train[:5]"
   ]
  },
  {
   "cell_type": "code",
   "execution_count": 17,
   "metadata": {},
   "outputs": [],
   "source": [
    "#change corpus into vector\n",
    "#you can use tfidf or BoW here\n",
    "vectorizer = TfidfVectorizer()\n",
    "vectorizer.fit(x_train)\n",
    "\n",
    "#transform training and testing corpus into vector form\n",
    "x_train = vectorizer.transform(x_train)\n",
    "x_test = vectorizer.transform(x_test)"
   ]
  },
  {
   "cell_type": "markdown",
   "metadata": {},
   "source": [
    "### 訓練與預測"
   ]
  },
  {
   "cell_type": "markdown",
   "metadata": {},
   "source": [
    "#### 決策樹 Decision Tree"
   ]
  },
  {
   "cell_type": "code",
   "execution_count": 18,
   "metadata": {},
   "outputs": [
    {
     "name": "stdout",
     "output_type": "stream",
     "text": [
      "train accuracy score: 0.9114557278639319\n",
      "test accuracy score: 0.9044522261130565\n",
      "              precision    recall  f1-score   support\n",
      "\n",
      "           1       0.68      0.21      0.32       134\n",
      "           2       0.00      0.00      0.00        73\n",
      "           3       0.91      0.99      0.95      1792\n",
      "\n",
      "    accuracy                           0.90      1999\n",
      "   macro avg       0.53      0.40      0.42      1999\n",
      "weighted avg       0.86      0.90      0.87      1999\n",
      "\n",
      "[[  28    4  102]\n",
      " [   3    0   70]\n",
      " [  10    2 1780]]\n"
     ]
    }
   ],
   "source": [
    "#build classification model (decision tree, random forest, or adaboost)\n",
    "#start training\n",
    "decision_tree_cls = DecisionTreeClassifier(criterion='gini', max_depth=6)\n",
    "decision_tree_cls.fit(x_train, y_train)\n",
    "\n",
    "#start inference\n",
    "y_pred = decision_tree_cls.predict(x_test)\n",
    "\n",
    "#calculate accuracy\n",
    "print(f'train accuracy score: {decision_tree_cls.score(x_train,y_train)}')\n",
    "print(f'test accuracy score: {decision_tree_cls.score(x_test,y_test)}')\n",
    "\n",
    "#calculate confusion matrix, precision, recall, and f1-score\n",
    "print(classification_report(y_test, y_pred))\n",
    "print(confusion_matrix(y_test, y_pred))"
   ]
  },
  {
   "cell_type": "markdown",
   "metadata": {},
   "source": [
    "由上述資訊可以發現, 模型在好評的準確度高(precision, recall都高), 而在差評的部分表現較不理想, 在普通評價的部分大部分跟差評搞混,\n",
    "同學可以試著學習到的各種方法來提升模型的表現"
   ]
  },
  {
   "cell_type": "markdown",
   "metadata": {},
   "source": [
    "#### 隨機森林 Random Forest"
   ]
  },
  {
   "cell_type": "code",
   "execution_count": 19,
   "metadata": {},
   "outputs": [
    {
     "name": "stdout",
     "output_type": "stream",
     "text": [
      "train accuracy score: 0.892696348174087\n",
      "test accuracy score: 0.896448224112056\n",
      "              precision    recall  f1-score   support\n",
      "\n",
      "           1       0.00      0.00      0.00       134\n",
      "           2       0.00      0.00      0.00        73\n",
      "           3       0.90      1.00      0.95      1792\n",
      "\n",
      "    accuracy                           0.90      1999\n",
      "   macro avg       0.30      0.33      0.32      1999\n",
      "weighted avg       0.80      0.90      0.85      1999\n",
      "\n",
      "[[   0    0  134]\n",
      " [   0    0   73]\n",
      " [   0    0 1792]]\n"
     ]
    },
    {
     "name": "stderr",
     "output_type": "stream",
     "text": [
      "C:\\Users\\angel\\anaconda3\\envs\\tensorflow\\lib\\site-packages\\sklearn\\metrics\\_classification.py:1248: UndefinedMetricWarning: Precision and F-score are ill-defined and being set to 0.0 in labels with no predicted samples. Use `zero_division` parameter to control this behavior.\n",
      "  _warn_prf(average, modifier, msg_start, len(result))\n",
      "C:\\Users\\angel\\anaconda3\\envs\\tensorflow\\lib\\site-packages\\sklearn\\metrics\\_classification.py:1248: UndefinedMetricWarning: Precision and F-score are ill-defined and being set to 0.0 in labels with no predicted samples. Use `zero_division` parameter to control this behavior.\n",
      "  _warn_prf(average, modifier, msg_start, len(result))\n",
      "C:\\Users\\angel\\anaconda3\\envs\\tensorflow\\lib\\site-packages\\sklearn\\metrics\\_classification.py:1248: UndefinedMetricWarning: Precision and F-score are ill-defined and being set to 0.0 in labels with no predicted samples. Use `zero_division` parameter to control this behavior.\n",
      "  _warn_prf(average, modifier, msg_start, len(result))\n"
     ]
    }
   ],
   "source": [
    "#start training\n",
    "forest_cls = RandomForestClassifier(n_estimators=50, criterion='gini', max_depth=6)\n",
    "forest_cls.fit(x_train, y_train)\n",
    "\n",
    "#start inference\n",
    "y_pred = forest_cls.predict(x_test)\n",
    "\n",
    "#calculate accuracy\n",
    "print(f'train accuracy score: {forest_cls.score(x_train,y_train)}')\n",
    "print(f'test accuracy score: {forest_cls.score(x_test,y_test)}')\n",
    "\n",
    "#calculate confusion matrix, precision, recall, and f1-score\n",
    "print(classification_report(y_test, y_pred))\n",
    "print(confusion_matrix(y_test, y_pred))"
   ]
  },
  {
   "cell_type": "markdown",
   "metadata": {},
   "source": [
    "#### Adaboost"
   ]
  },
  {
   "cell_type": "code",
   "execution_count": 20,
   "metadata": {},
   "outputs": [
    {
     "name": "stdout",
     "output_type": "stream",
     "text": [
      "train accuracy score: 0.9882441220610305\n",
      "test accuracy score: 0.8894447223611806\n",
      "              precision    recall  f1-score   support\n",
      "\n",
      "           1       0.47      0.24      0.32       134\n",
      "           2       0.05      0.01      0.02        73\n",
      "           3       0.91      0.97      0.94      1792\n",
      "\n",
      "    accuracy                           0.89      1999\n",
      "   macro avg       0.48      0.41      0.43      1999\n",
      "weighted avg       0.85      0.89      0.87      1999\n",
      "\n",
      "[[  32    4   98]\n",
      " [   4    1   68]\n",
      " [  32   15 1745]]\n"
     ]
    }
   ],
   "source": [
    "adaboost_cls = AdaBoostClassifier(base_estimator=DecisionTreeClassifier(criterion='gini',\n",
    "                                                                        max_depth=6),\n",
    "                                  n_estimators=50,\n",
    "                                  learning_rate=0.8)\n",
    "adaboost_cls.fit(x_train, y_train)\n",
    "\n",
    "#start inference\n",
    "y_pred = adaboost_cls.predict(x_test)\n",
    "\n",
    "#calculate accuracy\n",
    "print(f'train accuracy score: {adaboost_cls.score(x_train,y_train)}')\n",
    "print(f'test accuracy score: {adaboost_cls.score(x_test,y_test)}')\n",
    "\n",
    "#calculate confusion matrix, precision, recall, and f1-score\n",
    "print(classification_report(y_test, y_pred))\n",
    "print(confusion_matrix(y_test, y_pred))"
   ]
  },
  {
   "cell_type": "code",
   "execution_count": null,
   "metadata": {},
   "outputs": [],
   "source": []
  }
 ],
 "metadata": {
  "kernelspec": {
   "display_name": "Python 3",
   "language": "python",
   "name": "python3"
  },
  "language_info": {
   "codemirror_mode": {
    "name": "ipython",
    "version": 3
   },
   "file_extension": ".py",
   "mimetype": "text/x-python",
   "name": "python",
   "nbconvert_exporter": "python",
   "pygments_lexer": "ipython3",
   "version": "3.7.10"
  },
  "varInspector": {
   "cols": {
    "lenName": 16,
    "lenType": 16,
    "lenVar": 40
   },
   "kernels_config": {
    "python": {
     "delete_cmd_postfix": "",
     "delete_cmd_prefix": "del ",
     "library": "var_list.py",
     "varRefreshCmd": "print(var_dic_list())"
    },
    "r": {
     "delete_cmd_postfix": ") ",
     "delete_cmd_prefix": "rm(",
     "library": "var_list.r",
     "varRefreshCmd": "cat(var_dic_list()) "
    }
   },
   "types_to_exclude": [
    "module",
    "function",
    "builtin_function_or_method",
    "instance",
    "_Feature"
   ],
   "window_display": false
  }
 },
 "nbformat": 4,
 "nbformat_minor": 2
}
