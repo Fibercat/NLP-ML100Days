{
 "cells": [
  {
   "cell_type": "markdown",
   "metadata": {},
   "source": [
    "### 載入所需的Libraries"
   ]
  },
  {
   "cell_type": "code",
   "execution_count": 1,
   "metadata": {},
   "outputs": [],
   "source": [
    "import re\n",
    "import pandas as pd\n",
    "import numpy as np"
   ]
  },
  {
   "cell_type": "markdown",
   "metadata": {},
   "source": [
    "### 載入資料"
   ]
  },
  {
   "cell_type": "code",
   "execution_count": 2,
   "metadata": {},
   "outputs": [
    {
     "data": {
      "text/html": [
       "<div>\n",
       "<style scoped>\n",
       "    .dataframe tbody tr th:only-of-type {\n",
       "        vertical-align: middle;\n",
       "    }\n",
       "\n",
       "    .dataframe tbody tr th {\n",
       "        vertical-align: top;\n",
       "    }\n",
       "\n",
       "    .dataframe thead th {\n",
       "        text-align: right;\n",
       "    }\n",
       "</style>\n",
       "<table border=\"1\" class=\"dataframe\">\n",
       "  <thead>\n",
       "    <tr style=\"text-align: right;\">\n",
       "      <th></th>\n",
       "      <th>label</th>\n",
       "      <th>content</th>\n",
       "    </tr>\n",
       "  </thead>\n",
       "  <tbody>\n",
       "    <tr>\n",
       "      <th>0</th>\n",
       "      <td>ham</td>\n",
       "      <td>Go until jurong point, crazy.. Available only ...</td>\n",
       "    </tr>\n",
       "    <tr>\n",
       "      <th>1</th>\n",
       "      <td>ham</td>\n",
       "      <td>Ok lar... Joking wif u oni...</td>\n",
       "    </tr>\n",
       "    <tr>\n",
       "      <th>2</th>\n",
       "      <td>spam</td>\n",
       "      <td>Free entry in 2 a wkly comp to win FA Cup fina...</td>\n",
       "    </tr>\n",
       "    <tr>\n",
       "      <th>3</th>\n",
       "      <td>ham</td>\n",
       "      <td>U dun say so early hor... U c already then say...</td>\n",
       "    </tr>\n",
       "    <tr>\n",
       "      <th>4</th>\n",
       "      <td>ham</td>\n",
       "      <td>Nah I don't think he goes to usf, he lives aro...</td>\n",
       "    </tr>\n",
       "  </tbody>\n",
       "</table>\n",
       "</div>"
      ],
      "text/plain": [
       "  label                                            content\n",
       "0   ham  Go until jurong point, crazy.. Available only ...\n",
       "1   ham                      Ok lar... Joking wif u oni...\n",
       "2  spam  Free entry in 2 a wkly comp to win FA Cup fina...\n",
       "3   ham  U dun say so early hor... U c already then say...\n",
       "4   ham  Nah I don't think he goes to usf, he lives aro..."
      ]
     },
     "execution_count": 2,
     "metadata": {},
     "output_type": "execute_result"
    }
   ],
   "source": [
    "# read data from spam.csv\n",
    "sms_data = pd.read_csv('spam.csv',encoding='Latin')\n",
    "sms_data = sms_data.iloc[:,:2]\n",
    "sms_data.columns = ['label','content']\n",
    "sms_data.head()"
   ]
  },
  {
   "cell_type": "code",
   "execution_count": 3,
   "metadata": {},
   "outputs": [
    {
     "name": "stdout",
     "output_type": "stream",
     "text": [
      "5572\n"
     ]
    },
    {
     "data": {
      "text/html": [
       "<div>\n",
       "<style scoped>\n",
       "    .dataframe tbody tr th:only-of-type {\n",
       "        vertical-align: middle;\n",
       "    }\n",
       "\n",
       "    .dataframe tbody tr th {\n",
       "        vertical-align: top;\n",
       "    }\n",
       "\n",
       "    .dataframe thead th {\n",
       "        text-align: right;\n",
       "    }\n",
       "</style>\n",
       "<table border=\"1\" class=\"dataframe\">\n",
       "  <thead>\n",
       "    <tr style=\"text-align: right;\">\n",
       "      <th></th>\n",
       "      <th>content</th>\n",
       "    </tr>\n",
       "    <tr>\n",
       "      <th>label</th>\n",
       "      <th></th>\n",
       "    </tr>\n",
       "  </thead>\n",
       "  <tbody>\n",
       "    <tr>\n",
       "      <th>ham</th>\n",
       "      <td>4825</td>\n",
       "    </tr>\n",
       "    <tr>\n",
       "      <th>spam</th>\n",
       "      <td>747</td>\n",
       "    </tr>\n",
       "  </tbody>\n",
       "</table>\n",
       "</div>"
      ],
      "text/plain": [
       "       content\n",
       "label         \n",
       "ham       4825\n",
       "spam       747"
      ]
     },
     "execution_count": 3,
     "metadata": {},
     "output_type": "execute_result"
    }
   ],
   "source": [
    "# check how many spams and hams\n",
    "print(len(sms_data))\n",
    "sms_data.groupby('label').count()"
   ]
  },
  {
   "cell_type": "code",
   "execution_count": 4,
   "metadata": {},
   "outputs": [
    {
     "data": {
      "text/html": [
       "<div>\n",
       "<style scoped>\n",
       "    .dataframe tbody tr th:only-of-type {\n",
       "        vertical-align: middle;\n",
       "    }\n",
       "\n",
       "    .dataframe tbody tr th {\n",
       "        vertical-align: top;\n",
       "    }\n",
       "\n",
       "    .dataframe thead th {\n",
       "        text-align: right;\n",
       "    }\n",
       "</style>\n",
       "<table border=\"1\" class=\"dataframe\">\n",
       "  <thead>\n",
       "    <tr style=\"text-align: right;\">\n",
       "      <th></th>\n",
       "      <th>label</th>\n",
       "      <th>content</th>\n",
       "    </tr>\n",
       "  </thead>\n",
       "  <tbody>\n",
       "    <tr>\n",
       "      <th>0</th>\n",
       "      <td>0</td>\n",
       "      <td>Go until jurong point, crazy.. Available only ...</td>\n",
       "    </tr>\n",
       "    <tr>\n",
       "      <th>1</th>\n",
       "      <td>0</td>\n",
       "      <td>Ok lar... Joking wif u oni...</td>\n",
       "    </tr>\n",
       "    <tr>\n",
       "      <th>2</th>\n",
       "      <td>1</td>\n",
       "      <td>Free entry in 2 a wkly comp to win FA Cup fina...</td>\n",
       "    </tr>\n",
       "    <tr>\n",
       "      <th>3</th>\n",
       "      <td>0</td>\n",
       "      <td>U dun say so early hor... U c already then say...</td>\n",
       "    </tr>\n",
       "    <tr>\n",
       "      <th>4</th>\n",
       "      <td>0</td>\n",
       "      <td>Nah I don't think he goes to usf, he lives aro...</td>\n",
       "    </tr>\n",
       "  </tbody>\n",
       "</table>\n",
       "</div>"
      ],
      "text/plain": [
       "   label                                            content\n",
       "0      0  Go until jurong point, crazy.. Available only ...\n",
       "1      0                      Ok lar... Joking wif u oni...\n",
       "2      1  Free entry in 2 a wkly comp to win FA Cup fina...\n",
       "3      0  U dun say so early hor... U c already then say...\n",
       "4      0  Nah I don't think he goes to usf, he lives aro..."
      ]
     },
     "execution_count": 4,
     "metadata": {},
     "output_type": "execute_result"
    }
   ],
   "source": [
    "# change label to from string to number\n",
    "# \"ham\" --> 0, \"spam\" --> 1\n",
    "sms_data['label'].replace(['ham','spam'], [0,1], inplace=True)\n",
    "sms_data.head()"
   ]
  },
  {
   "cell_type": "markdown",
   "metadata": {},
   "source": [
    "### 切分資料\n",
    "將資料依據label比例切分為training data與testing data"
   ]
  },
  {
   "cell_type": "code",
   "execution_count": 5,
   "metadata": {},
   "outputs": [
    {
     "name": "stdout",
     "output_type": "stream",
     "text": [
      "       content\n",
      "label         \n",
      "0         3859\n",
      "1          598\n",
      "       content\n",
      "label         \n",
      "0          966\n",
      "1          149\n"
     ]
    }
   ],
   "source": [
    "from sklearn.model_selection import train_test_split\n",
    "\n",
    "sms_train, sms_test = train_test_split(sms_data, test_size=0.2, stratify=sms_data.label)\n",
    "\n",
    "print(sms_train.groupby(\"label\").count())\n",
    "print(sms_test.groupby(\"label\").count())"
   ]
  },
  {
   "cell_type": "code",
   "execution_count": 6,
   "metadata": {},
   "outputs": [
    {
     "data": {
      "text/html": [
       "<div>\n",
       "<style scoped>\n",
       "    .dataframe tbody tr th:only-of-type {\n",
       "        vertical-align: middle;\n",
       "    }\n",
       "\n",
       "    .dataframe tbody tr th {\n",
       "        vertical-align: top;\n",
       "    }\n",
       "\n",
       "    .dataframe thead th {\n",
       "        text-align: right;\n",
       "    }\n",
       "</style>\n",
       "<table border=\"1\" class=\"dataframe\">\n",
       "  <thead>\n",
       "    <tr style=\"text-align: right;\">\n",
       "      <th></th>\n",
       "      <th>label</th>\n",
       "      <th>content</th>\n",
       "    </tr>\n",
       "  </thead>\n",
       "  <tbody>\n",
       "    <tr>\n",
       "      <th>5042</th>\n",
       "      <td>0</td>\n",
       "      <td>O ic lol. Should play 9 doors sometime yo</td>\n",
       "    </tr>\n",
       "    <tr>\n",
       "      <th>4677</th>\n",
       "      <td>0</td>\n",
       "      <td>It is a good thing I'm now getting the connect...</td>\n",
       "    </tr>\n",
       "    <tr>\n",
       "      <th>1629</th>\n",
       "      <td>0</td>\n",
       "      <td>Sounds like you have many talents! would you l...</td>\n",
       "    </tr>\n",
       "    <tr>\n",
       "      <th>5025</th>\n",
       "      <td>1</td>\n",
       "      <td>Ur cash-balance is currently 500 pounds - to m...</td>\n",
       "    </tr>\n",
       "    <tr>\n",
       "      <th>1084</th>\n",
       "      <td>0</td>\n",
       "      <td>For me the love should start with attraction.i...</td>\n",
       "    </tr>\n",
       "  </tbody>\n",
       "</table>\n",
       "</div>"
      ],
      "text/plain": [
       "      label                                            content\n",
       "5042      0          O ic lol. Should play 9 doors sometime yo\n",
       "4677      0  It is a good thing I'm now getting the connect...\n",
       "1629      0  Sounds like you have many talents! would you l...\n",
       "5025      1  Ur cash-balance is currently 500 pounds - to m...\n",
       "1084      0  For me the love should start with attraction.i..."
      ]
     },
     "execution_count": 6,
     "metadata": {},
     "output_type": "execute_result"
    }
   ],
   "source": [
    "sms_train.head()"
   ]
  },
  {
   "cell_type": "code",
   "execution_count": 7,
   "metadata": {},
   "outputs": [
    {
     "data": {
      "text/html": [
       "<div>\n",
       "<style scoped>\n",
       "    .dataframe tbody tr th:only-of-type {\n",
       "        vertical-align: middle;\n",
       "    }\n",
       "\n",
       "    .dataframe tbody tr th {\n",
       "        vertical-align: top;\n",
       "    }\n",
       "\n",
       "    .dataframe thead th {\n",
       "        text-align: right;\n",
       "    }\n",
       "</style>\n",
       "<table border=\"1\" class=\"dataframe\">\n",
       "  <thead>\n",
       "    <tr style=\"text-align: right;\">\n",
       "      <th></th>\n",
       "      <th>label</th>\n",
       "      <th>content</th>\n",
       "    </tr>\n",
       "  </thead>\n",
       "  <tbody>\n",
       "    <tr>\n",
       "      <th>1695</th>\n",
       "      <td>0</td>\n",
       "      <td>Finish already... Yar they keep saying i mushy...</td>\n",
       "    </tr>\n",
       "    <tr>\n",
       "      <th>3816</th>\n",
       "      <td>0</td>\n",
       "      <td>This is my number by vivek..</td>\n",
       "    </tr>\n",
       "    <tr>\n",
       "      <th>4005</th>\n",
       "      <td>0</td>\n",
       "      <td>IM FINE BABES AINT BEEN UP 2 MUCH THO! SAW SCA...</td>\n",
       "    </tr>\n",
       "    <tr>\n",
       "      <th>3324</th>\n",
       "      <td>0</td>\n",
       "      <td>Nope... Juz off from work...</td>\n",
       "    </tr>\n",
       "    <tr>\n",
       "      <th>5524</th>\n",
       "      <td>1</td>\n",
       "      <td>You are awarded a SiPix Digital Camera! call 0...</td>\n",
       "    </tr>\n",
       "  </tbody>\n",
       "</table>\n",
       "</div>"
      ],
      "text/plain": [
       "      label                                            content\n",
       "1695      0  Finish already... Yar they keep saying i mushy...\n",
       "3816      0                       This is my number by vivek..\n",
       "4005      0  IM FINE BABES AINT BEEN UP 2 MUCH THO! SAW SCA...\n",
       "3324      0                       Nope... Juz off from work...\n",
       "5524      1  You are awarded a SiPix Digital Camera! call 0..."
      ]
     },
     "execution_count": 7,
     "metadata": {},
     "output_type": "execute_result"
    }
   ],
   "source": [
    "sms_test.head()"
   ]
  },
  {
   "cell_type": "markdown",
   "metadata": {},
   "source": [
    "### 資料預處理\n",
    "* 將所有字詞轉為小寫\n",
    "* 移除所有數字、標點符號"
   ]
  },
  {
   "cell_type": "code",
   "execution_count": 8,
   "metadata": {},
   "outputs": [],
   "source": [
    "def preprocess(df: pd.DataFrame) -> pd.DataFrame:\n",
    "    \n",
    "    for i, row in df.iterrows():\n",
    "        # make all content to lowercase\n",
    "        # remove all punctuations\n",
    "        text = re.sub('r[^\\w\\s]','', row['content'].lower())\n",
    "        df.at[i,'content'] = text\n",
    "    \n",
    "    return df"
   ]
  },
  {
   "cell_type": "code",
   "execution_count": 9,
   "metadata": {},
   "outputs": [
    {
     "name": "stdout",
     "output_type": "stream",
     "text": [
      "Train:\n",
      "      label                                            content\n",
      "5042      0          o ic lol. should play 9 doors sometime yo\n",
      "4677      0  it is a good thing i'm now getting the connect...\n",
      "1629      0  sounds like you have many talents! would you l...\n",
      "5025      1  ur cash-balance is currently 500 pounds - to m...\n",
      "1084      0  for me the love should start with attraction.i...\n"
     ]
    }
   ],
   "source": [
    "processed_train = preprocess(sms_train)\n",
    "print(\"Train:\")\n",
    "print(processed_train.head())"
   ]
  },
  {
   "cell_type": "code",
   "execution_count": 10,
   "metadata": {
    "scrolled": true
   },
   "outputs": [
    {
     "name": "stdout",
     "output_type": "stream",
     "text": [
      "Test:\n",
      "      label                                            content\n",
      "1695      0  finish already... yar they keep saying i mushy...\n",
      "3816      0                       this is my number by vivek..\n",
      "4005      0  im fine babes aint been up 2 much tho! saw sca...\n",
      "3324      0                       nope... juz off from work...\n",
      "5524      1  you are awarded a sipix digital camera! call 0...\n"
     ]
    }
   ],
   "source": [
    "processed_test = preprocess(sms_test)\n",
    "print(\"Test:\")\n",
    "print(processed_test.head())"
   ]
  },
  {
   "cell_type": "code",
   "execution_count": 11,
   "metadata": {},
   "outputs": [
    {
     "data": {
      "text/plain": [
       "13403"
      ]
     },
     "execution_count": 11,
     "metadata": {},
     "output_type": "execute_result"
    }
   ],
   "source": [
    "# split data into x_train, y_train, x_test, y_test\n",
    "y_train, x_train = zip(*processed_train.values)\n",
    "y_test, x_test = zip(*processed_test.values)\n",
    "\n",
    "# check numbers of unique word in the corpus\n",
    "len(set(\" \".join(list(x_train + x_test)).split()))"
   ]
  },
  {
   "cell_type": "markdown",
   "metadata": {},
   "source": [
    "### TF-IDF\n",
    "可以發現種共有7708個字詞，這裡使用TF-IDF將來選取最高分的前2000個字詞\n",
    "(若忘記的學員可參考先前TF-IDF課程章節或[此篇教學](https://ithelp.ithome.com.tw/articles/10228815?sc=iThelpR))"
   ]
  },
  {
   "cell_type": "code",
   "execution_count": 12,
   "metadata": {},
   "outputs": [
    {
     "name": "stdout",
     "output_type": "stream",
     "text": [
      "Number of unique word: 2000\n"
     ]
    },
    {
     "data": {
      "text/plain": [
       "(<4457x2000 sparse matrix of type '<class 'numpy.float64'>'\n",
       " \twith 51335 stored elements in Compressed Sparse Row format>,\n",
       " <1115x2000 sparse matrix of type '<class 'numpy.float64'>'\n",
       " \twith 12359 stored elements in Compressed Sparse Row format>)"
      ]
     },
     "execution_count": 12,
     "metadata": {},
     "output_type": "execute_result"
    }
   ],
   "source": [
    "from sklearn.feature_extraction.text import TfidfVectorizer\n",
    "\n",
    "vectorizer = TfidfVectorizer(max_features=2000)\n",
    "vectorizer.fit(x_train)\n",
    "\n",
    "tfidf_train = vectorizer.transform(x_train)\n",
    "tfidf_test = vectorizer.transform(x_test)\n",
    "\n",
    "print(f\"Number of unique word: {len(vectorizer.vocabulary_)}\")\n",
    "(tfidf_train, tfidf_test)"
   ]
  },
  {
   "cell_type": "markdown",
   "metadata": {},
   "source": [
    "### 建立共現矩陣"
   ]
  },
  {
   "cell_type": "code",
   "execution_count": 13,
   "metadata": {},
   "outputs": [],
   "source": [
    "from typing import List\n",
    "\n",
    "def create_co_matrix(corpus: List[str], vocab_list: List[str], word2idx: dict,\n",
    "                     window_size: int=1, use_weighting: bool=False, verbose: bool=False) -> np.ndarray:\n",
    "    '''Function to create co-occurrence matrix\n",
    "    '''\n",
    "    #initialize co-occurrence matrix\n",
    "    vocab_size = len(vocab_list)\n",
    "    co_matrix = np.zeros(shape=(vocab_size, vocab_size), dtype=np.int32)\n",
    "    \n",
    "    for idx, sms in enumerate(corpus):\n",
    "        sms = sms.split()\n",
    "        sms_ids = [word2idx[word] for word in sms if word in vocab_list]\n",
    "        sms_len = len(sms_ids)\n",
    "                \n",
    "        for center_i, center_word_id in enumerate(sms_ids):\n",
    "            for i in range(1, window_size+1):\n",
    "                left_idx = center_i - i\n",
    "                right_idx = center_i + i\n",
    "                \n",
    "                if left_idx >= 0:\n",
    "                    left_word_id = sms_ids[left_idx]\n",
    "                    co_matrix[center_word_id, left_word_id] += 1\n",
    "                \n",
    "                if right_idx < sms_len:\n",
    "                    right_word_id = sms_ids[right_idx]\n",
    "                    co_matrix[center_word_id, right_word_id] += 1\n",
    "        \n",
    "        if verbose:\n",
    "            if idx != 0 and idx%500 == 0:\n",
    "                print(f\"finishing {idx+1}/{len(corpus)}\")\n",
    "    \n",
    "    print(\"Done\")\n",
    "    \n",
    "    if use_weighting:\n",
    "        # if use weighting, then we set the co-occurrence with the word itself to 1.0\n",
    "        np.fill_diagonal(co_matrix, 1.)\n",
    "        \n",
    "    return co_matrix"
   ]
  },
  {
   "cell_type": "code",
   "execution_count": 14,
   "metadata": {},
   "outputs": [
    {
     "name": "stdout",
     "output_type": "stream",
     "text": [
      "finishing 501/4457\n",
      "finishing 1001/4457\n",
      "finishing 1501/4457\n",
      "finishing 2001/4457\n",
      "finishing 2501/4457\n",
      "finishing 3001/4457\n",
      "finishing 3501/4457\n",
      "finishing 4001/4457\n",
      "Done\n"
     ]
    },
    {
     "data": {
      "text/plain": [
       "array([[1, 0, 0, ..., 0, 0, 0],\n",
       "       [0, 1, 0, ..., 0, 0, 0],\n",
       "       [0, 0, 1, ..., 0, 0, 0],\n",
       "       ...,\n",
       "       [0, 0, 0, ..., 1, 3, 0],\n",
       "       [0, 0, 0, ..., 3, 1, 0],\n",
       "       [0, 0, 0, ..., 0, 0, 1]])"
      ]
     },
     "execution_count": 14,
     "metadata": {},
     "output_type": "execute_result"
    }
   ],
   "source": [
    "co_matrix = create_co_matrix(x_train, vectorizer.get_feature_names(), vectorizer.vocabulary_,\n",
    "                            window_size=3, use_weighting=True, verbose=True)\n",
    "\n",
    "co_matrix"
   ]
  },
  {
   "cell_type": "markdown",
   "metadata": {},
   "source": [
    "### 建立PPMI矩陣"
   ]
  },
  {
   "cell_type": "code",
   "execution_count": 15,
   "metadata": {},
   "outputs": [],
   "source": [
    "#定義正向點間互資訊\n",
    "\n",
    "def ppmi(co_matrix: np.ndarray, eps: float=1e-8, verbose: bool=False):\n",
    "    M = np.zeros_like(co_matrix, dtype=np.float32)\n",
    "    N = np.sum(co_matrix)\n",
    "    S = np.sum(co_matrix, axis=0)\n",
    "    total = co_matrix.shape[0]*co_matrix.shape[1]\n",
    "    \n",
    "    for i in range(co_matrix.shape[0]):\n",
    "        for j in range(co_matrix.shape[1]):\n",
    "            pmi = np.log2(co_matrix[i, j]*N / (S[i]*S[j]))\n",
    "            M[i, j] = max(0, pmi)\n",
    "            \n",
    "            if verbose:\n",
    "                cnt += 1\n",
    "                if cnt % 10 == 0 or cnt == total:\n",
    "                    print(f\"{cnt}/{total} Done\")\n",
    "    \n",
    "    return M"
   ]
  },
  {
   "cell_type": "code",
   "execution_count": 16,
   "metadata": {},
   "outputs": [
    {
     "name": "stderr",
     "output_type": "stream",
     "text": [
      "C:\\Users\\angel\\anaconda3\\envs\\tensorflow\\lib\\site-packages\\ipykernel_launcher.py:11: RuntimeWarning: divide by zero encountered in log2\n",
      "  # This is added back by InteractiveShellApp.init_path()\n"
     ]
    },
    {
     "data": {
      "text/plain": [
       "array([[17.761993 ,  0.       ,  0.       , ...,  0.       ,  0.       ,\n",
       "         0.       ],\n",
       "       [ 0.       , 17.761993 ,  0.       , ...,  0.       ,  0.       ,\n",
       "         0.       ],\n",
       "       [ 0.       ,  0.       , 12.147283 , ...,  0.       ,  0.       ,\n",
       "         0.       ],\n",
       "       ...,\n",
       "       [ 0.       ,  0.       ,  0.       , ...,  0.8678262,  3.5075545,\n",
       "         0.       ],\n",
       "       [ 0.       ,  0.       ,  0.       , ...,  3.5075545,  2.9773579,\n",
       "         0.       ],\n",
       "       [ 0.       ,  0.       ,  0.       , ...,  0.       ,  0.       ,\n",
       "        17.761993 ]], dtype=float32)"
      ]
     },
     "execution_count": 16,
     "metadata": {},
     "output_type": "execute_result"
    }
   ],
   "source": [
    "ppmi_matrix = ppmi(co_matrix, verbose=False)\n",
    "ppmi_matrix"
   ]
  },
  {
   "cell_type": "markdown",
   "metadata": {},
   "source": [
    "### 使用SVD降維\n",
    "利用sklearn中的TruncatedSVD對co-occurrence matrix進行降維，並利用variance來找出最適合的維度\n",
    "[參考文獻](https://medium.com/swlh/truncated-singular-value-decomposition-svd-using-amazon-food-reviews-891d97af5d8d)\n",
    "\n",
    "(讀者可以嘗試使用SVD對PPMI進行降維)"
   ]
  },
  {
   "cell_type": "code",
   "execution_count": 17,
   "metadata": {},
   "outputs": [],
   "source": [
    "from sklearn.decomposition import TruncatedSVD\n",
    "\n",
    "# Program to find the optimal number of components for Truncated SVD\n",
    "n_comp = range(10,150,10) # list containing different values of components\n",
    "variance_sum = [] # explained variance ratio for each component of Truncated SVD\n",
    "\n",
    "for dim in n_comp:\n",
    "    svd = TruncatedSVD(n_components=dim)\n",
    "    svd.fit(co_matrix)\n",
    "    variance_sum.append(svd.explained_variance_ratio_.sum())\n",
    "    "
   ]
  },
  {
   "cell_type": "code",
   "execution_count": 18,
   "metadata": {},
   "outputs": [
    {
     "data": {
      "image/png": "[encoded data removed]",
      "text/plain": [
       "<Figure size 432x288 with 1 Axes>"
      ]
     },
     "metadata": {
      "needs_background": "light"
     },
     "output_type": "display_data"
    }
   ],
   "source": [
    "import matplotlib.pyplot as plt\n",
    "\n",
    "plt.plot(n_comp, variance_sum)\n",
    "plt.xlabel('Number of components')\n",
    "plt.ylabel(\"Explained Variance\")\n",
    "plt.title(\"Plot of Number of components v/s explained variance\")\n",
    "plt.show()"
   ]
  },
  {
   "cell_type": "code",
   "execution_count": 19,
   "metadata": {},
   "outputs": [],
   "source": [
    "# choose 140 as final dimension to reduce to \n",
    "# 利用上述找到的最適合dimension來對co-occurrence matrix進行降維\n",
    "svd = TruncatedSVD(n_components=140)\n",
    "svd.fit(co_matrix)\n",
    "re_co_matrix = svd.transform(co_matrix)"
   ]
  },
  {
   "cell_type": "markdown",
   "metadata": {},
   "source": [
    "### 使用KNN模型進行分類\n",
    "在進行分類之前，先利用簡單的詞向量平均來計算文本向量\n",
    "\n",
    "[參考文獻](https://medium.com/ai-academy-taiwan/nlp-%E4%B8%8D%E5%90%8C%E8%A9%9E%E5%90%91%E9%87%8F%E5%9C%A8%E6%96%87%E6%9C%AC%E5%88%86%E9%A1%9E%E4%B8%8A%E7%9A%84%E8%A1%A8%E7%8F%BE%E8%88%87%E5%AF%A6%E4%BD%9C-e72a2daecfc)"
   ]
  },
  {
   "cell_type": "code",
   "execution_count": 20,
   "metadata": {
    "scrolled": true
   },
   "outputs": [
    {
     "name": "stdout",
     "output_type": "stream",
     "text": [
      "document 7 doesn't contain word in vocab_list\n",
      "erutupalam thandiyachu\n",
      "\n",
      "\n",
      "document 46 doesn't contain word in vocab_list\n",
      "thanx...\n",
      "\n",
      "\n",
      "document 140 doesn't contain word in vocab_list\n",
      "645\n",
      "\n",
      "\n",
      "document 183 doesn't contain word in vocab_list\n",
      "gibbs unsold.mike hussey\n",
      "\n",
      "\n",
      "document 284 doesn't contain word in vocab_list\n",
      "not..tel software name..\n",
      "\n",
      "\n",
      "document 292 doesn't contain word in vocab_list\n",
      ":-) :-)\n",
      "\n",
      "\n",
      "document 374 doesn't contain word in vocab_list\n",
      "what's nannys address?\n",
      "\n",
      "\n",
      "document 569 doesn't contain word in vocab_list\n",
      "raviyog peripherals bhayandar east\n",
      "\n",
      "\n",
      "document 574 doesn't contain word in vocab_list\n",
      "ok...\n",
      "\n",
      "\n",
      "document 596 doesn't contain word in vocab_list\n",
      "ok...\n",
      "\n",
      "\n",
      "document 604 doesn't contain word in vocab_list\n",
      "4 tacos + 1 rajas burrito, right?\n",
      "\n",
      "\n",
      "document 885 doesn't contain word in vocab_list\n",
      "ok.\n",
      "\n",
      "\n",
      "document 945 doesn't contain word in vocab_list\n",
      "we're done...\n",
      "\n",
      "\n",
      "document 961 doesn't contain word in vocab_list\n",
      "pathaya enketa maraikara pa'\n",
      "\n",
      "\n",
      "document 975 doesn't contain word in vocab_list\n",
      "received, understood n acted upon!\n",
      "\n",
      "\n",
      "document 980 doesn't contain word in vocab_list\n",
      "ok...\n",
      "\n",
      "\n",
      "document 1023 doesn't contain word in vocab_list\n",
      "i'm done...\n",
      "\n",
      "\n",
      "document 1092 doesn't contain word in vocab_list\n",
      "k:)k:)good:)study well.\n",
      "\n",
      "\n",
      "document 1193 doesn't contain word in vocab_list\n",
      "poyyarikatukolathupalayam,unjalur post,erode dis, &lt;#&gt; .\n",
      "\n",
      "\n",
      "document 1251 doesn't contain word in vocab_list\n",
      "ok. c u then.\n",
      "\n",
      "\n",
      "document 1311 doesn't contain word in vocab_list\n",
      "nvm it's ok...\n",
      "\n",
      "\n",
      "document 1540 doesn't contain word in vocab_list\n",
      "mostly sports type..lyk footbl,crckt..\n",
      "\n",
      "\n",
      "document 1619 doesn't contain word in vocab_list\n",
      "that's necessarily respectful\n",
      "\n",
      "\n",
      "document 1860 doesn't contain word in vocab_list\n",
      "nah, i'm a perpetual dd\n",
      "\n",
      "\n",
      "document 1963 doesn't contain word in vocab_list\n",
      "ok..\n",
      "\n",
      "\n",
      "document 2009 doesn't contain word in vocab_list\n",
      "ringtoneking 84484\n",
      "\n",
      "\n",
      "document 2103 doesn't contain word in vocab_list\n",
      "hanks lotsly!\n",
      "\n",
      "\n",
      "document 2217 doesn't contain word in vocab_list\n",
      "okie...\n",
      "\n",
      "\n",
      "document 2323 doesn't contain word in vocab_list\n",
      "staff.science.nus.edu.sg/~phyhcmk/teaching/pc1323\n",
      "\n",
      "\n",
      "document 2350 doesn't contain word in vocab_list\n",
      "tension ah?what machi?any problem?\n",
      "\n",
      "\n",
      "document 2372 doesn't contain word in vocab_list\n",
      "okie...\n",
      "\n",
      "\n",
      "document 2385 doesn't contain word in vocab_list\n",
      "2/2 146tf150p\n",
      "\n",
      "\n",
      "document 2410 doesn't contain word in vocab_list\n",
      "nite...\n",
      "\n",
      "\n",
      "document 2442 doesn't contain word in vocab_list\n",
      "ok...\n",
      "\n",
      "\n",
      "document 2578 doesn't contain word in vocab_list\n",
      "i'm home...\n",
      "\n",
      "\n",
      "document 2581 doesn't contain word in vocab_list\n",
      "i'm home.\n",
      "\n",
      "\n",
      "document 2658 doesn't contain word in vocab_list\n",
      "ok.\n",
      "\n",
      "\n",
      "document 2669 doesn't contain word in vocab_list\n",
      "annoying isn't it.\n",
      "\n",
      "\n",
      "document 2835 doesn't contain word in vocab_list\n",
      "lmao!nice 1\n",
      "\n",
      "\n",
      "document 2914 doesn't contain word in vocab_list\n",
      "ok...\n",
      "\n",
      "\n",
      "document 2988 doesn't contain word in vocab_list\n",
      "yup...\n",
      "\n",
      "\n",
      "document 3012 doesn't contain word in vocab_list\n",
      "sorry. || mail? || \n",
      "\n",
      "\n",
      "document 3091 doesn't contain word in vocab_list\n",
      "ok.\n",
      "\n",
      "\n",
      "document 3122 doesn't contain word in vocab_list\n",
      "ultimately tor motive tui achieve korli.\n",
      "\n",
      "\n",
      "document 3214 doesn't contain word in vocab_list\n",
      "okie...\n",
      "\n",
      "\n",
      "document 3230 doesn't contain word in vocab_list\n",
      "it,,s a taxt massage....tie-pos argh ok! lool!\n",
      "\n",
      "\n",
      "document 3231 doesn't contain word in vocab_list\n",
      "audrie lousy autocorrect\n",
      "\n",
      "\n",
      "document 3277 doesn't contain word in vocab_list\n",
      "ok...\n",
      "\n",
      "\n",
      "document 3338 doesn't contain word in vocab_list\n",
      "east coast\n",
      "\n",
      "\n",
      "document 3381 doesn't contain word in vocab_list\n",
      "dai  &lt;#&gt;  naal eruku.\n",
      "\n",
      "\n",
      "document 3393 doesn't contain word in vocab_list\n",
      "u too...\n",
      "\n",
      "\n",
      "document 3426 doesn't contain word in vocab_list\n",
      "ok...\n",
      "\n",
      "\n",
      "document 3432 doesn't contain word in vocab_list\n",
      "okie.. thanx..\n",
      "\n",
      "\n",
      "document 3481 doesn't contain word in vocab_list\n",
      "hey! there's veggie pizza... :/\n",
      "\n",
      "\n",
      "document 3544 doesn't contain word in vocab_list\n",
      "s s..first time..dhoni rocks...\n",
      "\n",
      "\n",
      "document 3570 doesn't contain word in vocab_list\n",
      "anytime...\n",
      "\n",
      "\n",
      "document 3595 doesn't contain word in vocab_list\n",
      "g.w.r\n",
      "\n",
      "\n",
      "document 3691 doesn't contain word in vocab_list\n",
      "ok.\n",
      "\n",
      "\n",
      "document 3840 doesn't contain word in vocab_list\n",
      ":) \n",
      "\n",
      "\n",
      "document 4013 doesn't contain word in vocab_list\n",
      "nothing. can...\n",
      "\n",
      "\n",
      "document 4125 doesn't contain word in vocab_list\n",
      "ok...\n",
      "\n",
      "\n",
      "document 4135 doesn't contain word in vocab_list\n",
      "\\none!nowhere ikno doesdiscount!shitinnit\\\"\"\n",
      "\n",
      "\n",
      "document 4167 doesn't contain word in vocab_list\n",
      "ok... c ya...\n",
      "\n",
      "\n",
      "document 4260 doesn't contain word in vocab_list\n",
      "s:)s.nervous  &lt;#&gt; :)\n",
      "\n",
      "\n",
      "document 4264 doesn't contain word in vocab_list\n",
      "can... i'm free...\n",
      "\n",
      "\n",
      "document 4270 doesn't contain word in vocab_list\n",
      "s da..al r above  &lt;#&gt;\n",
      "\n",
      "\n",
      "document 4312 doesn't contain word in vocab_list\n",
      "k..k.:)congratulation ..\n",
      "\n",
      "\n",
      "document 4378 doesn't contain word in vocab_list\n",
      "y lei?\n",
      "\n",
      "\n",
      "document 4379 doesn't contain word in vocab_list\n",
      "ok...\n",
      "\n",
      "\n",
      "document 4404 doesn't contain word in vocab_list\n",
      "http//tms. widelive.com/index. wml?id=820554ad0a1705572711&first=trueåác c ringtoneåá\n",
      "\n",
      "\n",
      "document 4429 doesn't contain word in vocab_list\n",
      "yes, princess. toledo.\n",
      "\n",
      "\n",
      "==================================================\n",
      "document 31 doesn't contain word in vocab_list\n",
      "okie... thanx...\n",
      "\n",
      "\n",
      "document 86 doesn't contain word in vocab_list\n",
      "k.k:)apo k.good movie.\n",
      "\n",
      "\n",
      "document 96 doesn't contain word in vocab_list\n",
      "\\er\n",
      "\n",
      "\n",
      "document 98 doesn't contain word in vocab_list\n",
      "ryder unsold.now gibbs.\n",
      "\n",
      "\n",
      "document 149 doesn't contain word in vocab_list\n",
      "beerage?\n",
      "\n",
      "\n",
      "document 204 doesn't contain word in vocab_list\n",
      "havent.\n",
      "\n",
      "\n",
      "document 360 doesn't contain word in vocab_list\n",
      "anything...\n",
      "\n",
      "\n",
      "document 455 doesn't contain word in vocab_list\n",
      "u 2.\n",
      "\n",
      "\n",
      "document 528 doesn't contain word in vocab_list\n",
      "garbage bags, eggs, jam, bread, hannaford wheat chex\n",
      "\n",
      "\n",
      "document 683 doesn't contain word in vocab_list\n",
      "k i'm ready,  &lt;#&gt; ?\n",
      "\n",
      "\n",
      "document 718 doesn't contain word in vocab_list\n",
      "ok...\n",
      "\n",
      "\n"
     ]
    }
   ],
   "source": [
    "# get doc vector via take mean of all word vectors inside the corresponding document\n",
    "\n",
    "def make_doc_vectors(corpus: List[str], word2idx: dict, vocab_list: List) -> List[np.ndarray]:\n",
    "    \n",
    "    # vectorizing data \n",
    "    # and make document vector by take mean to all word vecto\n",
    "    doc_vec = []\n",
    "    empty_doc_list = []\n",
    "    for i, sms_msg in enumerate(corpus):\n",
    "        sms_msg = [word2idx[word] for word in sms_msg.split() if word in vocab_list] #tokenize\n",
    "        if len(sms_msg) > 0:\n",
    "            sms_msg = np.array([re_co_matrix[ids] for ids in sms_msg]) #vectorize\n",
    "            doc_vec.append(sms_msg.mean(axis=0))\n",
    "        else:\n",
    "            empty_doc_list.append(i)\n",
    "            print(f\"document {i} doesn't contain word in vocab_list\")\n",
    "            print(corpus[i])\n",
    "            print(\"\\n\")\n",
    "        \n",
    "    return np.vstack(doc_vec), empty_doc_list\n",
    "\n",
    "word2idx = vectorizer.vocabulary_\n",
    "vocab_list = vectorizer.get_feature_names()\n",
    "\n",
    "doc_vec_train, missing_train_list = make_doc_vectors(x_train, word2idx, vocab_list)\n",
    "print(\"=\"*50)\n",
    "doc_vec_test, missing_test_list = make_doc_vectors(x_test, word2idx, vocab_list)\n"
   ]
  },
  {
   "cell_type": "code",
   "execution_count": 21,
   "metadata": {},
   "outputs": [],
   "source": [
    "from sklearn.neighbors import KNeighborsClassifier\n",
    "\n",
    "# training\n",
    "y_train_filter = np.delete(np.array(y_train), missing_train_list)\n",
    "knn = KNeighborsClassifier(n_neighbors=5)\n",
    "knn.fit(doc_vec_train, y_train_filter)\n",
    "train_pred = knn.predict(doc_vec_train)\n",
    "\n",
    "# testing\n",
    "y_test_filter = np.delete(np.array(y_test), missing_test_list)\n",
    "test_pred = knn.predict(doc_vec_test)"
   ]
  },
  {
   "cell_type": "code",
   "execution_count": 22,
   "metadata": {},
   "outputs": [
    {
     "name": "stdout",
     "output_type": "stream",
     "text": [
      "train acc: 0.9571363429092568\n",
      "train acc: 0.9393115942028986\n"
     ]
    }
   ],
   "source": [
    "print(f\"train acc: {np.sum(train_pred == y_train_filter) / len(y_train_filter)}\")\n",
    "print(f\"train acc: {np.sum(test_pred == y_test_filter) / len(y_test_filter)}\")"
   ]
  },
  {
   "cell_type": "code",
   "execution_count": null,
   "metadata": {},
   "outputs": [],
   "source": []
  }
 ],
 "metadata": {
  "kernelspec": {
   "display_name": "Python 3",
   "language": "python",
   "name": "python3"
  },
  "language_info": {
   "codemirror_mode": {
    "name": "ipython",
    "version": 3
   },
   "file_extension": ".py",
   "mimetype": "text/x-python",
   "name": "python",
   "nbconvert_exporter": "python",
   "pygments_lexer": "ipython3",
   "version": "3.7.10"
  },
  "varInspector": {
   "cols": {
    "lenName": 16,
    "lenType": 16,
    "lenVar": 40
   },
   "kernels_config": {
    "python": {
     "delete_cmd_postfix": "",
     "delete_cmd_prefix": "del ",
     "library": "var_list.py",
     "varRefreshCmd": "print(var_dic_list())"
    },
    "r": {
     "delete_cmd_postfix": ") ",
     "delete_cmd_prefix": "rm(",
     "library": "var_list.r",
     "varRefreshCmd": "cat(var_dic_list()) "
    }
   },
   "types_to_exclude": [
    "module",
    "function",
    "builtin_function_or_method",
    "instance",
    "_Feature"
   ],
   "window_display": false
  }
 },
 "nbformat": 4,
 "nbformat_minor": 2
}
